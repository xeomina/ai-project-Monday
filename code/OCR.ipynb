{
 "cells": [
  {
   "cell_type": "code",
   "execution_count": null,
   "metadata": {},
   "outputs": [],
   "source": [
    "import cv2\n",
    "import requests\n",
    "import io\n",
    "import json\n",
    "import os\n",
    "import random\n",
    "from tqdm import tqdm\n",
    "import shutil\n",
    "\n",
    "\n",
    "# ocr 이전 파일 위치\n",
    "src = '/content/drive/MyDrive/Colab Notebooks/data/telemoji/train/surprise/'    # *수정 필요*   \n",
    "# ocr 이후 파일 위치\n",
    "to_dir = '/content/drive/MyDrive/Colab Notebooks/data/fear_filter/'   # 이미지 # *수정 필요*\n",
    "char_dir = '/content/drive/MyDrive/Colab Notebooks/data/character/'   # 글자\n",
    "\n",
    "url_api = \"https://api.ocr.space/parse/image\"\n",
    "files_ls = os.listdir(src)\n",
    "\n",
    "# Ocr\n",
    "for file in tqdm(files_ls): \n",
    "    try:\n",
    "        file_path = os.path.join(src, file)\n",
    "        img = cv2.imread(file_path) \n",
    "        _, compressedimage = cv2.imencode(\".jpg\", img)  # (Boolean, ndarray)\n",
    "                                                        # memory buffer에 이미지 넣기\n",
    "        file_bytes = io.BytesIO(compressedimage)        # memory buffer에 있는 byte 형태 데이터 \n",
    "\n",
    "        result = requests.post(url_api,\n",
    "                               files={file_path: file_bytes},\n",
    "                               data={\"apikey\": \"9f5b13aed588957\", # *수정 필요*\n",
    "                                     \"language\": \"eng\"})\n",
    "        result = result.content.decode() \n",
    "        result = json.loads(result)\n",
    "        parsed_results = result.get(\"ParsedResults\")[0]\n",
    "        text_detected = parsed_results.get(\"ParsedText\")\n",
    "        if bool(text_detected) == True:\n",
    "            print(text_detected)\n",
    "            shutil.move(file_path, char_dir + file)        # char_dir로 파일 이동\n",
    "        else:\n",
    "            shutil.move(file_path, to_dir + file)          # to_dir로 파일 이동\n",
    "    except (AttributeError, IndexError) as e:\n",
    "        print(e)\n",
    "        print(file)\n",
    "\n",
    "    except TypeError:\n",
    "        break"
   ]
  }
 ],
 "metadata": {
  "kernelspec": {
   "display_name": "Python 3",
   "language": "python",
   "name": "python3"
  },
  "language_info": {
   "codemirror_mode": {
    "name": "ipython",
    "version": 3
   },
   "file_extension": ".py",
   "mimetype": "text/x-python",
   "name": "python",
   "nbconvert_exporter": "python",
   "pygments_lexer": "ipython3",
   "version": "3.6.9"
  }
 },
 "nbformat": 4,
 "nbformat_minor": 4
}
